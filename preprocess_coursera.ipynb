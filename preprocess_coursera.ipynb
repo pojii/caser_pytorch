{
 "cells": [
  {
   "cell_type": "code",
   "execution_count": 1,
   "metadata": {},
   "outputs": [
    {
     "name": "stdout",
     "output_type": "stream",
     "text": [
      "Shape of precomputed_embeddings: (335, 512)\n",
      "Data type of precomputed_embeddings: float64\n",
      "First few entries of precomputed_embeddings:\n",
      " [[ 0.          0.          0.         ...  0.          0.\n",
      "   0.        ]\n",
      " [ 0.02955043 -0.05040626 -0.03429763 ... -0.03516497  0.00283596\n",
      "  -0.05422368]\n",
      " [-0.0293377   0.07105126  0.02892108 ...  0.04975786  0.05094028\n",
      "   0.08376113]\n",
      " [ 0.00911276  0.10090572  0.02040172 ...  0.01893581  0.03929628\n",
      "   0.0849996 ]\n",
      " [-0.07054556  0.05527508  0.00159063 ...  0.04513368  0.03052175\n",
      "  -0.05313987]]\n"
     ]
    }
   ],
   "source": [
    "import numpy as np\n",
    "\n",
    "# Load the .npy file\n",
    "precomputed_embeddings = np.load('datasets/edx/precomputed_embeddings.npy')\n",
    "\n",
    "# Print the structure\n",
    "print(\"Shape of precomputed_embeddings:\", precomputed_embeddings.shape)\n",
    "print(\"Data type of precomputed_embeddings:\", precomputed_embeddings.dtype)\n",
    "\n",
    "# Print the first few entries for inspection\n",
    "print(\"First few entries of precomputed_embeddings:\\n\", precomputed_embeddings[:5])\n"
   ]
  },
  {
   "cell_type": "code",
   "execution_count": null,
   "metadata": {},
   "outputs": [],
   "source": []
  }
 ],
 "metadata": {
  "kernelspec": {
   "display_name": "caser_venv_py39",
   "language": "python",
   "name": "python3"
  },
  "language_info": {
   "codemirror_mode": {
    "name": "ipython",
    "version": 3
   },
   "file_extension": ".py",
   "mimetype": "text/x-python",
   "name": "python",
   "nbconvert_exporter": "python",
   "pygments_lexer": "ipython3",
   "version": "3.9.13"
  }
 },
 "nbformat": 4,
 "nbformat_minor": 2
}
