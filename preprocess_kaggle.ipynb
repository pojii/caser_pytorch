{
 "cells": [
  {
   "cell_type": "code",
   "execution_count": 5,
   "metadata": {},
   "outputs": [
    {
     "name": "stdout",
     "output_type": "stream",
     "text": [
      "Preprocessing complete. Files saved as train.txt, val.txt, test.txt, and text.txt.\n",
      "User and course ID mappings saved as JSON files.\n"
     ]
    }
   ],
   "source": [
    "import pandas as pd\n",
    "import numpy as np\n",
    "from sklearn.model_selection import train_test_split\n",
    "import json\n",
    "\n",
    "# Load the datasets\n",
    "item_embedding = pd.read_csv('datasets/kaggle/item_embeddings.csv')\n",
    "course_list = pd.read_csv('datasets/kaggle/course_list.csv')\n",
    "rating_df = pd.read_csv('datasets/kaggle/rating_df.csv')\n",
    "\n",
    "# Ensure user IDs are strings\n",
    "rating_df['user'] = rating_df['user'].astype(str)\n",
    "\n",
    "# Create a mapping from course code to a unique integer\n",
    "course_id_map = {code: idx for idx, code in enumerate(course_list['Course List Code'])}\n",
    "course_name_map = dict(zip(course_list['Course List Code'], course_list['Course Name']))\n",
    "\n",
    "# Create a mapping from user to a unique integer\n",
    "user_id_map = {str(uid): idx for idx, uid in enumerate(rating_df['user'].unique())}\n",
    "\n",
    "# Apply the mappings to the rating data\n",
    "rating_df['user_id_mapped'] = rating_df['user'].map(user_id_map)\n",
    "rating_df['course_id_mapped'] = rating_df['item'].map(course_id_map)\n",
    "\n",
    "# Drop rows with NaN values in the mapped columns (if mapping fails)\n",
    "rating_df.dropna(subset=['user_id_mapped', 'course_id_mapped'], inplace=True)\n",
    "\n",
    "# Ensure 'rating' column is binary (0 or 1)\n",
    "rating_df['rating'] = rating_df['rating'].apply(lambda x: 1 if x > 0 else 0)\n",
    "\n",
    "# Only keep relevant columns\n",
    "rating_df = rating_df[['user_id_mapped', 'course_id_mapped', 'rating']]\n",
    "\n",
    "# Convert mapped IDs to integers\n",
    "rating_df['user_id_mapped'] = rating_df['user_id_mapped'].astype(int)\n",
    "rating_df['course_id_mapped'] = rating_df['course_id_mapped'].astype(int)\n",
    "\n",
    "# Split the data into train, validation, and test sets\n",
    "train, temp = train_test_split(rating_df, test_size=0.3, random_state=42)\n",
    "val, test = train_test_split(temp, test_size=0.5, random_state=42)\n",
    "\n",
    "# Save the train.txt file\n",
    "train_file = 'datasets/kaggle/train.txt'\n",
    "train.to_csv(train_file, sep=' ', header=False, index=False)\n",
    "\n",
    "# Save the val.txt file\n",
    "val_file = 'datasets/kaggle/val.txt'\n",
    "val.to_csv(val_file, sep=' ', header=False, index=False)\n",
    "\n",
    "# Save the test.txt file\n",
    "test_file = 'datasets/kaggle/test.txt'\n",
    "test.to_csv(test_file, sep=' ', header=False, index=False)\n",
    "\n",
    "# Save the text.txt file (course id and name mapping)\n",
    "text_file = 'datasets/kaggle/text.txt'\n",
    "with open(text_file, 'w') as f:\n",
    "    for code, name in course_name_map.items():\n",
    "        idx = course_id_map[code]\n",
    "        f.write(f\"{idx} {name}\\n\")\n",
    "\n",
    "print(\"Preprocessing complete. Files saved as train.txt, val.txt, test.txt, and text.txt.\")\n",
    "\n",
    "# Save the mappings for future reference\n",
    "with open('datasets/kaggle/user_id_map.json', 'w') as f:\n",
    "    json.dump({str(k): int(v) for k, v in user_id_map.items()}, f)\n",
    "\n",
    "with open('datasets/kaggle/course_id_map.json', 'w') as f:\n",
    "    json.dump({str(k): int(v) for k, v in course_id_map.items()}, f)\n",
    "\n",
    "print(\"User and course ID mappings saved as JSON files.\")"
   ]
  },
  {
   "cell_type": "code",
   "execution_count": 7,
   "metadata": {},
   "outputs": [
    {
     "name": "stdout",
     "output_type": "stream",
     "text": [
      "course_embeddings.npy file created successfully!\n",
      "course_codes.npy file created successfully!\n"
     ]
    }
   ],
   "source": [
    "import pandas as pd\n",
    "import numpy as np\n",
    "\n",
    "# Load the item embedding CSV file\n",
    "item_embedding_df = pd.read_csv('datasets/kaggle/item_embeddings.csv')\n",
    "\n",
    "# Extract the embeddings (assuming the first column is 'Course List Code')\n",
    "course_embeddings = item_embedding_df.iloc[:, 1:].values  # Extracting the embeddings as a NumPy array\n",
    "\n",
    "# Save the embeddings as a .npy file\n",
    "np.save('datasets/kaggle/course_embeddings.npy', course_embeddings)\n",
    "\n",
    "print(\"course_embeddings.npy file created successfully!\")\n",
    "\n",
    "# Optionally, you can also save the course codes separately\n",
    "course_codes = item_embedding_df.iloc[:, 0].values\n",
    "np.save('datasets/kaggle/course_codes.npy', course_codes)\n",
    "\n",
    "print(\"course_codes.npy file created successfully!\")"
   ]
  },
  {
   "cell_type": "code",
   "execution_count": 1,
   "metadata": {},
   "outputs": [
    {
     "name": "stdout",
     "output_type": "stream",
     "text": [
      "Precomputed embeddings saved to 'datasets/kaggle/precomputed_embeddings.npy'\n"
     ]
    }
   ],
   "source": [
    "import numpy as np\n",
    "import pandas as pd\n",
    "\n",
    "# อ่านไฟล์ CSV\n",
    "item_embeddings_df = pd.read_csv(\"datasets/kaggle/item_embeddings.csv\")\n",
    "\n",
    "# ลบคอลัมน์ 'Course Name' เพื่อดึงเฉพาะข้อมูล embedding\n",
    "precomputed_embeddings = item_embeddings_df.drop(columns=['Course Name']).values\n",
    "\n",
    "# บันทึก embeddings เป็นไฟล์ .npy\n",
    "np.save(\"datasets/kaggle/precomputed_embeddings.npy\", precomputed_embeddings)\n",
    "\n",
    "print(\"Precomputed embeddings saved to 'datasets/kaggle/precomputed_embeddings.npy'\")\n"
   ]
  }
 ],
 "metadata": {
  "kernelspec": {
   "display_name": "caser_venv_py39",
   "language": "python",
   "name": "python3"
  },
  "language_info": {
   "codemirror_mode": {
    "name": "ipython",
    "version": 3
   },
   "file_extension": ".py",
   "mimetype": "text/x-python",
   "name": "python",
   "nbconvert_exporter": "python",
   "pygments_lexer": "ipython3",
   "version": "3.9.13"
  }
 },
 "nbformat": 4,
 "nbformat_minor": 2
}
